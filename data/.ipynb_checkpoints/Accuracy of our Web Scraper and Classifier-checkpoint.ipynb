{
 "cells": [
  {
   "cell_type": "markdown",
   "metadata": {},
   "source": [
    "## Increase the accuracy of our Web Scraper\n",
    "\n"
   ]
  },
  {
   "cell_type": "code",
   "execution_count": 4,
   "metadata": {
    "collapsed": false
   },
   "outputs": [],
   "source": [
    "import praw \n",
    "\n",
    "\n",
    "def search_and_return(search_string, subreddit):\n",
    "\n",
    "    r = praw.Reddit('search application')\n",
    "\n",
    "    # search \n",
    "    search_results = r.search(search_string, \n",
    "                              subreddit = subreddit,\n",
    "                              sort = True)\n",
    "\n",
    "    for i in range(0,24):\n",
    "        comments = []\n",
    "        post = search_results.next()\n",
    "        for comment in post.comments:\n",
    "            try:\n",
    "                comment_str = str(comment.body.encode('utf-8'))\n",
    "                comments.append(comment_str)\n",
    "                comments.append(comment.score)\n",
    "            except AttributeError:\n",
    "                pass\n",
    "\n",
    "        score = 0\n",
    "        for i in range(0, len(comments), 2):\n",
    "            for comment in comments[i].split('\\n'):\n",
    "                if any(i in str(comment) for i in search_string.lower().split(' ')):\n",
    "                    print comment"
   ]
  },
  {
   "cell_type": "code",
   "execution_count": 6,
   "metadata": {
    "collapsed": false
   },
   "outputs": [
    {
     "name": "stdout",
     "output_type": "stream",
     "text": [
      "Version 3.3.0 of praw is outdated. Version 3.4.0 was released Monday February 22, 2016.\n",
      "I don't really know who had him on the level of curry. But great OC. Could you do a similar one for Steph, Russ and maybe Wall or Lowry? One of the other top pgs from this/last year\n",
      "Kyrie is 23 and developing and curry is 27 and in his prime. Compare kyrie to curry at 23 and see who wins\n",
      "nah [kyrie is a better offensive player than curry](https://www.reddit.com/r/nba/comments/404agv/kyrie_irving_blows_by_wiggins_after_multiple/cyrdj3o)\n",
      "Kyrie is also 6 years younger? The fact that he's even in the convo with a player as spectacular as curry is unbelievable. But anyone saying he's better at this point is delusional. \n",
      "If lebron stopped shooting jumpshots over curry, maybe his opponent's field goal percentage would be a lot higher.\n",
      "That being said curry is very judicious when he drives and usually only has to contend with a rim protector since his man is behind him. \n",
      "TIL curry has more 3pm than Pistol Pete /s\n",
      "These stats are insane for sure, but what do people not understand about curry? The guy shoots more 3's than anyone in NBA history. He's super efficient shooting them, so I'm not criticizing him at all. He's going to own all the records not only because he's a great shooter, but also because he shoots so many threes a game. This season he's averaging almost 12 attempts a game. Ray Allen's highest 3pt attempts per game in a season was like 8. Reggie miller's was pretty low as well. Steph shoots a lot of 3's.\n",
      "\"fuck everybody who didn't take me first in their fantasy draft\" - steph curry\n",
      "We are getting Davidson curry with NBA caliber teammates. Fucking insane. \n",
      "you get one your last bench players, should be a big guy, you get him to grab curry's throat, THEN CHOKESLAM HIM THROUGH THE HARDWOOD FLOOR BOARD! thats the only way you'll be stopping last seasons mvp!\n",
      "step 2: get in curry's head\n",
      "Force him to give up the ball by sending double and triple teams at him. He won't score at all. Oh wait, that didn't work too well against him in [college](https://www.washingtonpost.com/sports/wizards/the-time-stephen-curry-was-held-scoreless/2015/05/29/5ebb8fd2-061e-11e5-93f4-f24d4af7f97d_story.html).\n",
      "the best defense on him used to be aggressive traps. that was when mark jackson was running the team and steph's handles were also not quite as good as they are now. i still think that is the best way to defend him as it forces people like draymond and iguodala to beat you... which they still will most of the time.\n",
      "have klay/draymond try to score all they want but if curry is being denied the ball or not getting good shots off then you are throwing off his rhythm.  \n",
      "he's curry's pippen\n",
      "Honestly fuck curry he has to be cheating some how. Im going with moon shoes idk the science behind it but it sounds right.\n",
      "three seconds left, any basket wins, teammates getting into position, curry can drive and take any number of contested shots or pass -- and he thinks the best option is to pull up from 35 feet. and he's right. LOL\n",
      "i'm going to buy a curry jersey now.  \n",
      ".....that is amazing......curry for mvp\n",
      "For the \"harden got robbed\" contingent: this was one of the closest MVP races in recent memory with curry winning 1198 to harden's 936.  He didn't get robbed -- there just happened to be 2 very deserving candidates this season.  Congrats to curry.\n",
      "I am eating curry right now in commemoration of CP3's ankles\n",
      "You made the news. http://www.sbnation.com/lookit/2015/6/18/8804475/steph-curry-dragon-ball-z-gif-yessss-very-good-internet\n",
      "god damn curry looks so much more badass with super saiyan hair\n",
      "Damn if I was steph I would wake up to this clip everyday\n",
      "how fucking demoralizing must it be to get assigned curry? Unless you're kawhi leonard.. it must suck ass watching those long ass shots go in. \n",
      "Nothing surprises me at this point with curry. If I was in R/hockey and saw \"Steph Curry with the amazing dangles to beat Carey Price\" I would not bat an eye.\n",
      "Steph curry is not person\n",
      "And I don't even like steph curry but god damn I have never seen a player like this. \n",
      "every time i see one of these gifs it's like \"oh another 45 foot shot from steph ho hum\"\n",
      "That took so long to go in im pretty sure curry was already in the locker room chilling by the time it went in.\n",
      "i want harden and curry to be on same team now for more explosions\n",
      "Fancy Lobs in the all star game next week chicken curry\n",
      "If curry finishes this \"regular season\" as the best then yes I would put him over lebron, assuming he doesn't choke or something in the playoffs. He had a better regular season last year and arguably better playoffs depending on what you value, he was much more efficient. People neglect Lebron's historically low TS% when discussing last year's playoff numbers. If he wins MVP again this year and keeps up similar-ish play in the playoffs, I would consider him the best. I'm not going to let precedent distort view of the current reality.\n",
      "Steph curry could possibly hit 300 3's this season\n",
      "i cringed when Ernie Johnson says \"its... stephffortless\"\n",
      "saving this for when, in 6 months, half this sub would rather have westbrook or CP3 over curry. \n"
     ]
    }
   ],
   "source": [
    "search_and_return('steph curry', 'nba')"
   ]
  },
  {
   "cell_type": "code",
   "execution_count": 7,
   "metadata": {
    "collapsed": false
   },
   "outputs": [
    {
     "name": "stdout",
     "output_type": "stream",
     "text": [
      "Version 3.3.0 of praw is outdated. Version 3.4.0 was released Monday February 22, 2016.\n",
      "I feel like CNN'S coverage of the event really hurt trump. If it had been completely streamed, he would've blown Fox out of the water. Either way mad respect for what he's doing for the veterans. It's the thought that counts. \n",
      "http://www.bloombergview.com/articles/2015-09-03/should-donald-trump-have-indexed-\n",
      "Trump was [sued by the Department of Justice for discriminatory housing policies in his properties, has said that black people are lazy, and that he only wants his money handled by \"short guys that wear yarmulkes every day.\"](http://ringoffireradio.com/2015/08/trump-racism/) He [talks trash about women all the time](http://www.politifact.com/truth-o-meter/statements/2015/aug/10/donald-trump/donald-trump-says-women-viciously-attacked-him-fir/), and was [accused of rape by his ex-wife](http://www.huffingtonpost.com/entry/donald-trump-rape_55b6df6ce4b0074ba5a60418) until, after a settlement and a gag order, she clarified that it was only \"emotional\" rape. He's notorious for [under-paying his contractors](http://www.gossipextra.com/2015/06/09/donald-trump-national-golf-jupiter-construction-lien-4801/), and [taking as many shortcuts](http://www.nydailynews.com/news/politics/trump-hotel-built-workers-u-s-illegally-article-1.2283581) in building his developments as possible to keep the costs down, regardless of how they affect the quality. He continually [questioned the citizenship of the President long after a birth certificate was produced](http://www.politico.com/magazine/story/2015/07/donald-trumps-birther-strategy-120504), continued [advocating his military strategy after analysts said it was terrible](http://www.cnn.com/2015/07/10/politics/donald-trump-fact-check-bomb-oil-fields-iraq/), recently demonstrated he's [completely unsuited for handling foreign policy affairs](http://www.businessinsider.com/donald-trump-foreign-policy-interview-hugh-hewitt), and [handed out a competitor's phone number publicly for no reason](http://www.politico.com/story/2015/07/donald-trump-gives-out-lindsey-grahams-cell-phone-number-120414).\n",
      "The man is [not Presidential by any means](http://www.theonion.com/graphic/trump-unable-to-produce-certificate-proving-hes-no-20250), he's a sideshow clown. I don't care how successful he is as a businessman.\n",
      "Sanders / Clinton will be close. The FBI investigation will hurt her and if an indictment is recommended I  think you'll see Biden jump in. This has to be one of the craziest elections ever. Really hoping for a Sanders / trump general\n",
      "Do we have enough time to make this happen for the trump debate? Even if we don't, I think it still needs to happen SOMEtime.\n",
      "When I saw that video I knew that that's how trump supporters are created\n",
      "so it's a non-issue with a shitty misleading headline. tyler said it was a copyright issue and not a political or personal one, so trump apparently got his checkbook out.\n",
      "Nobody tells trump what to do\n",
      "Does real change include racism and getting offended everytime someone says something you don't like. Donalds heavy support of the police and his stance on the FBI vs Apple, scares the shit out of me and makes me think privacy is not on his agenda. All I see is a greedy billionaire wanting control. The 1% will make more, the poor will get screwed, the violence will get worse, and freedoms will be trampled upon. This mans ego is going to get us into new wars we haven't even thought of yet and gain us new enemies around the world. You're a fool if you think this man has any policies that are going to work. Everything he promises are pure bullshit. A wall one the border, mass deportation, getting jobs back from china, outlawing islam, defunding planned parenthood, suing journalists. None of that sounds like american freedom to me, it sounds like an even bigger government dictating our lives and using the police and armed forces as bullies to get his way. Fuck trump and fuck the idiots that are falling for his bullshit.\n",
      "[Donald Trump Vows To Appoint Far-Right Supreme Court Justices Like Clarence Thomas](http://www.rightwingwatch.org/content/donald-trump-vows-appoint-far-right-supreme-court-justices-clarence-thomas#sthash.SCNLYzwH.dpuf](http://www.rightwingwatch.org/content/donald-trump-vows-appoint-far-right-supreme-court-justices-clarence-thomas)\n",
      "http://www.rightwingwatch.org/content/donald-trump-vows-appoint-far-right-supreme-court-justices-clarence-thomas\n",
      "I honestly do not understand the reasoning of rewarding people who have broken the law by coming into the country illegally. They are not US citizens. There are millions upon millions of people looking for a better life—and that's just from within our countries own people. So the notion that a desperate immigrants family sap story somehow trumps an already struggling American is beyond me. Just look at the refugee crisis in Europe right now. Nothing they are doing can be sustained. All of those Syrians go into places like Germany and Sweden and they fucking get all kinds of free shit thanks to the Government. is like to think we can avoid such a clusterfuck here in the states.\n",
      "This is a dumb non story on the trump o meter, if you watch the video.\n",
      "And nobody actually took their coats. It was a jest by trump, who was probably wanted to say something controversial anyways so he could get PR. He's playing y'all for fools.\n",
      "This was my post about trump 6 months ago after researching him thoroughly after he announced and why I predicted then he would sweep the country like Reagan.\n",
      "https://np.reddit.com/r/inthenews/comments/3d7v3q/after_watching_all_of_trumps_speechs_this_week/?\n",
      "Straight talk. Speeches from off the cuff without teleprompters. This is a huge thing. Hillary cant do it. Obama couldnt do it .  It shows you that what he person is saying is more likely what THEY wrote or thought of - especially when given in audience response style like trump does. I am NOT talking about flowing inspirational speeches that obviously were written by wordsmiths like Obama used to read on teleprompters. I am talking about answering questions quickly without equivocation and in a consistent direct manner that shows honesty in his opinions. Reagan had this too. Its a huge deal and really resonates even with people who dont agree with you becuase everyone always assumes people who dont do this (like hillary and jeb) are just liars anyway. People would rather vote for the honest perso  they know who they sometimes disagree with than they one whose opinion is never clearly stated or who has changed their opinion every year (jeb now says he is NOT for illegal immigrant citizenship)\n",
      "I thought trump was going to be a joke .\n",
      "And unlike other candidates (except maybe bernie sanders) if you watch trumps old videos from as much as 30 yrs ago on youtube like early david lettermen appearances you see his political and business environment opinions are the same and real and historically he was right.  Look at his stuff from the 80's. He was always right years before others about upcoming economic downturns and why.\n",
      "So why will trump win?  Because like reagan he will bring people out to vote who normally would have stayed home.  Most people dont vore becuase they dont beleive candidates actually beleive the speeches they make, they are in disagreement on either social or taxes and business issues so they have no one to vote for. Trump is clearly honest in meaning what he says and he combines strength with moderate social positions. He will bring them out in droves to vote.\n",
      "I started with all youtube results from since he announced aboittwo weeks ago including his speech in pheonix ( a little heavy on trump but thats trump. Wait him out.) and then his announcement speech (with a great intro by his daughter).  I then watched him on youtube in a recent hannity interview  and then in a sparring match with bill oreilly. Both since he announced so look for the dates. Then some old stuff from lettermen literally some as far back as 1988. Guess what? What he said then came true and is consistent with what he says now? What other person running for office can you say that about excpet Bernie Sanders?  I'll tell you. NOONE.\n",
      "YouTube Letterman appearances https://www.youtube.com/results?search_query=trump+letterman\n",
      "[Politico](http://www.politico.com/magazine/story/2015/12/donald-trump-2016-third-party-bid-213449) took a look at the possibility, and found historical precedents that show it's actually a pretty likely possibility.\n",
      "I'm extremely liberal, but i get the appeal of trump and think he even has some pretty good ideas. But for the life of me, I dont understand why people like Carson and cant get an explanation why out of people that support him. makes no sense whatsoever \n",
      "He said it in front of cameras, you do realize that we can actually see him, right? http://www.reuters.com/article/2015/06/18/us-usa-election-trump-mexico-idUSKBN0OX06920150618\n",
      "In all honesty I want Bernie Sanders to win but if trump won i wouldn't view it as the end of the world. At least the guys is honest and upfront about his views and he is funding the whole campaigsn himself. This leaves no room for him to be bought by the highest bidder because fuck em he doesnt need their money unlike hillary clinton or jeb bush\n",
      "\"fiscal conservative\" http://www.forbes.com/sites/clareoconnor/2011/04/29/fourth-times-a-charm-how-donald-trump-made-bankruptcy-work-for-him/\n",
      "edit:  Given the upvotes I was curious if anyone else had made this silly little comparison. [What I found was absolutely amazing, written in July 2015, by a man called David Brown](http://www.poetrysoup.com/poem/mein_trumpf_691390) of the same title :\n",
      "His ban includes American Muslims traveling abroad: http://thehill.com/blogs/ballot-box/presidential-races/262348-trump-calls-for-shutdown-of-muslims-entering-us \n",
      "nothing anyone says or does will be able to lift these people out of their beliefs, but the GOP latching onto the teet of trump will, eventually and surely, spell the demise of this once great party\n",
      "I don't like trump, but he would eviscerate sanders in a debate.  It's just a simple matter of communication styles.  I've watched the republican debates.  He always loses in substance, but wins the popularity contest. \n",
      "I wonder why he wouldn't debate Rand Paul? Same reason(s) trump won't debate him.\n",
      "And one more: \"[*Donald Trump's Fact-Free Weekend: The Republican frontrunner claims Muslims in New Jersey cheered 9/11, defended the beating of a black protester, and circulated false and racially-charged crime stats. And that was just since Friday.*](http://www.theatlantic.com/politics/archive/2015/11/donald-trumps-fact-free-weekend/417282/)\"\n",
      "Here's one more article on the subject: \"[*The media has no idea how to deal with Donald Trump's constant lying*](http://www.vox.com/policy-and-politics/2015/11/23/9784766/donald-trump-abc-stephanopoulos)\".\n",
      "http://www.politifact.com/personalities/donald-trump/statements/\n",
      "I also don't think trump hurt bush as much as bush hurt bush.\n",
      "bush really wasn't doing that well before trump, yeah he was the front running for name recognition only.. and due to support from core RNC and big donors.. but considering, he really wasn't doing that well. Many republicans didn't want an election that was a referendum between the past Clinton gov and the past Bush gov and it would be hard as fuck for him to run an election without all that on his back.\n",
      "yeah he might have ended up the nominee if trump wasn't around, but no republican would be happy about it. It would be another \"at least he aint a dem\"\n",
      "I don't think trumps stupid. I think he's trying to destroy the republican party\n",
      "pitted up against trump, i dont think bernie will do that well.\n",
      "Bloomberg would run and spoil democrats meaning trump would still win with Bernie\n",
      ">Money \"trumps\" all\n",
      "As far as the 1% are concerned money does trump all. No pun intended. I saw an interview with some wealthy guy who stated that you should be given a number of votes based on how much in taxes you pay. You can guess where that system would go.\n",
      "Money doesn't trump all, we learned that in 2012 when the Republican donors lost their shirts on a terrible candidate.\n",
      "https://www.legalzoom.com/articles/how-does-trump-repeatedly-file-for-bankruptcy-and-still-stay-on-top\n"
     ]
    }
   ],
   "source": [
    "search_and_return('trump', 'politics')"
   ]
  },
  {
   "cell_type": "code",
   "execution_count": null,
   "metadata": {
    "collapsed": true
   },
   "outputs": [],
   "source": []
  }
 ],
 "metadata": {
  "kernelspec": {
   "display_name": "Python 2",
   "language": "python",
   "name": "python2"
  },
  "language_info": {
   "codemirror_mode": {
    "name": "ipython",
    "version": 2
   },
   "file_extension": ".py",
   "mimetype": "text/x-python",
   "name": "python",
   "nbconvert_exporter": "python",
   "pygments_lexer": "ipython2",
   "version": "2.7.11"
  }
 },
 "nbformat": 4,
 "nbformat_minor": 0
}
