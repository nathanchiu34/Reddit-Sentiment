{
 "cells": [
  {
   "cell_type": "markdown",
   "metadata": {},
   "source": [
    "## Building a classifier\n",
    "\n",
    "Here we will use UCI Machine Learning's Sentiment Dataset to make a new classifier using Naive Bayes\n",
    "\n",
    "The dataset contains 1000+ examples of negative and positive reviews from yelp, imdb, and amazon."
   ]
  },
  {
   "cell_type": "code",
   "execution_count": 4,
   "metadata": {
    "collapsed": false
   },
   "outputs": [
    {
     "name": "stdout",
     "output_type": "stream",
     "text": [
      "                                              sentence  label\n",
      "0    Not sure who was more lost - the flat characte...      0\n",
      "1    Attempting artiness with black & white and cle...      0\n",
      "2         Very little music or anything to speak of.        0\n",
      "3    The best scene in the movie was when Gerardo i...      1\n",
      "4    The rest of the movie lacks art, charm, meanin...      0\n",
      "5                                  Wasted two hours.        0\n",
      "6    Saw the movie today and thought it was a good ...      1\n",
      "7                                 A bit predictable.        0\n",
      "8    Loved the casting of Jimmy Buffet as the scien...      1\n",
      "9                 And those baby owls were adorable.        1\n",
      "10   The movie showed a lot of Florida at it's best...      1\n",
      "11   The Songs Were The Best And The Muppets Were S...      1\n",
      "12                                   It Was So Cool.        1\n",
      "13   This is a very \"right on case\" movie that deli...      1\n",
      "14   It had some average acting from the main perso...      0\n",
      "15   This review is long overdue, since I consider ...      1\n",
      "16   I'll put this gem up against any movie in term...      1\n",
      "17   It's practically perfect in all of them  a tr...      1\n",
      "18    The structure of this film is easily the most...      0\n",
      "19   This if the first movie I've given a 10 to in ...      1\n",
      "20   If there was ever a movie that needed word-of-...      1\n",
      "21   Overall, the film is interesting and thought-p...      1\n",
      "22   Plus, it was well-paced and suited its relativ...      1\n",
      "23                             Give this one a look.        1\n",
      "24                                    I gave it a 10        1\n",
      "25   The Wind and the Lion is well written and supe...      1\n",
      "26                             It is a true classic.        1\n",
      "27   It actually turned out to be pretty decent as ...      1\n",
      "28                    Definitely worth checking out.        1\n",
      "29                       The problem was the script.        0\n",
      "..                                                 ...    ...\n",
      "717  Enough can not be said of the remarkable anima...      1\n",
      "718  The art style has the appearance of crayon/pen...      1\n",
      "719  If you act in such a film, you should be glad ...      0\n",
      "720  This one wants to surf on the small wave of sp...      0\n",
      "721  If you haven't choked in your own vomit by the...      0\n",
      "722  Still, it makes up for all of this with a supe...      1\n",
      "723  Just consider the excellent story, solid actin...      1\n",
      "724  Instead, we got a bore fest about a whiny, spo...      0\n",
      "725  Then I watched it again two Sundays ago (March...      1\n",
      "726       It is a very well acted and done TV Movie.        1\n",
      "727  Judith Light is one of my favorite actresses a...      1\n",
      "728                I keep watching it over and over.        1\n",
      "729                 It's a sad movie, but very good.        1\n",
      "730  If you have not seen this movie, I definitely ...      1\n",
      "731           She is as lovely as usual, this cutie!        1\n",
      "732  Still it's quite interesting and entertaining ...      1\n",
      "733                    ;) Recommend with confidence!        1\n",
      "734  This movie is well-balanced with comedy and dr...      1\n",
      "735  It was a riot to see Hugo Weaving play a sex-o...      1\n",
      "736  :) Anyway, the plot flowed smoothly and the ma...      1\n",
      "737  The opening sequence of this gem is a classic,...      1\n",
      "738             Fans of the genre will be in heaven.        1\n",
      "739                Lange had become a great actress.        1\n",
      "740                It looked like a wonderful story.        1\n",
      "741            I never walked out of a movie faster.        0\n",
      "742  I just got bored watching Jessice Lange take h...      0\n",
      "743  Unfortunately, any virtue in this film's produ...      0\n",
      "744                   In a word, it is embarrassing.        0\n",
      "745                               Exceptionally bad!        0\n",
      "746  All in all its an insult to one's intelligence...      0\n",
      "\n",
      "[747 rows x 2 columns]\n"
     ]
    }
   ],
   "source": [
    "from pandas import DataFrame as df\n",
    "\n",
    "folder = 'sentiment labelled sentences/'\n",
    "imdb_sent = df.from_csv(folder+'imdb_labelled.txt',sep='\\t',index_col=False, \\\n",
    "                           encoding = 'utf-8')\n",
    "imdb_sent.columns = ['sentence','label']\n",
    "\n",
    "print imdb_sent"
   ]
  },
  {
   "cell_type": "code",
   "execution_count": 5,
   "metadata": {
    "collapsed": true
   },
   "outputs": [],
   "source": [
    "from nltk.corpus import stopwords\n",
    "\n",
    "filtered_sent = []\n",
    "for sentence in imdb_sent['sentence']:\n",
    "    filt_sent = [word for word in sentence if word not in stopwords.words('english')]\n",
    "    filtered_sent.append(filt_sent)"
   ]
  },
  {
   "cell_type": "code",
   "execution_count": null,
   "metadata": {
    "collapsed": true
   },
   "outputs": [],
   "source": [
    "from nltk import FreqDist\n",
    "\n",
    "def get_words_in_reviews(sentences):\n",
    "    all_words = []\n",
    "    for (words, sentiment) in imdb_sent.iterrows():\n",
    "        all_words.extend(words)\n",
    "    return all_words\n",
    "\n",
    "def get_word_features(wordlist):\n",
    "    wordlist = FeqDist(wordlist)\n",
    "    word_features = wordlist.keys()\n",
    "    return word_features\n",
    "\n",
    "word_features = get_word_features(get_words_in_reviews(sentences))\n",
    "\n",
    "def extract_features(document):\n",
    "    document_words = set(document)\n",
    "    features = {}\n",
    "    for word in word_features:\n",
    "        features['contains(%s)' % word] = (word in document_words)\n",
    "    return features\n",
    "\n",
    "training_set = nltk.classify.apply_features(extract_features, tweets)\n",
    "\n"
   ]
  }
 ],
 "metadata": {
  "kernelspec": {
   "display_name": "Python 2",
   "language": "python",
   "name": "python2"
  },
  "language_info": {
   "codemirror_mode": {
    "name": "ipython",
    "version": 2
   },
   "file_extension": ".py",
   "mimetype": "text/x-python",
   "name": "python",
   "nbconvert_exporter": "python",
   "pygments_lexer": "ipython2",
   "version": "2.7.11"
  }
 },
 "nbformat": 4,
 "nbformat_minor": 0
}
