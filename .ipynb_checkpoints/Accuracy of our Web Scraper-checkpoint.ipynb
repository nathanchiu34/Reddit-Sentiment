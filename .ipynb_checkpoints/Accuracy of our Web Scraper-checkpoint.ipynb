{
 "cells": [
  {
   "cell_type": "markdown",
   "metadata": {},
   "source": [
    "## Increase the accuracy of our Web Scraper\n",
    "\n"
   ]
  },
  {
   "cell_type": "code",
   "execution_count": 2,
   "metadata": {
    "collapsed": false
   },
   "outputs": [
    {
     "name": "stdout",
     "output_type": "stream",
     "text": [
      "Version 3.3.0 of praw is outdated. Version 3.4.0 was released Monday February 22, 2016.\n"
     ]
    }
   ],
   "source": [
    "import praw \n",
    "\n",
    "\n",
    "def search_and_return(search_string, subreddit, classifier):\n",
    "\n",
    "    # I may need to set this as a global\n",
    "    # For now, I will call one every single time \n",
    "    # *NOT SCALABLE*\n",
    "    r = praw.Reddit('search application')\n",
    "\n",
    "    # search \n",
    "    search_results = r.search(search_string, \n",
    "                              subreddit = subreddit,\n",
    "                              sort = True)\n",
    "\n",
    "    for i in range(0,24):\n",
    "\n",
    "        comments = []\n",
    "\n",
    "        post = search_results.next()\n",
    "        for comment in post.comments:\n",
    "            try:\n",
    "                comment_str = str(comment.body.encode('utf-8'))\n",
    "                comments.append(comment_str)\n",
    "                comments.append(comment.score)\n",
    "            except AttributeError:\n",
    "                pass\n",
    "\n",
    "        score = 0\n",
    "        for i in range(0, len(comments), 2):\n",
    "            for comment in comments[i].split('\\n'):\n",
    "                if any(i in str(comment) for i in search_string.lower().split(' ')):\n",
    "                    print comment"
   ]
  },
  {
   "cell_type": "code",
   "execution_count": null,
   "metadata": {
    "collapsed": true
   },
   "outputs": [],
   "source": [
    "search_and_return()"
   ]
  }
 ],
 "metadata": {
  "kernelspec": {
   "display_name": "Python 2",
   "language": "python",
   "name": "python2"
  },
  "language_info": {
   "codemirror_mode": {
    "name": "ipython",
    "version": 2
   },
   "file_extension": ".py",
   "mimetype": "text/x-python",
   "name": "python",
   "nbconvert_exporter": "python",
   "pygments_lexer": "ipython2",
   "version": "2.7.11"
  }
 },
 "nbformat": 4,
 "nbformat_minor": 0
}
